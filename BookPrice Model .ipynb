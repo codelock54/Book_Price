{
 "cells": [
  {
   "cell_type": "code",
   "execution_count": 1,
   "id": "50360e15",
   "metadata": {},
   "outputs": [
    {
     "data": {
      "text/html": [
       "<div>\n",
       "<style scoped>\n",
       "    .dataframe tbody tr th:only-of-type {\n",
       "        vertical-align: middle;\n",
       "    }\n",
       "\n",
       "    .dataframe tbody tr th {\n",
       "        vertical-align: top;\n",
       "    }\n",
       "\n",
       "    .dataframe thead th {\n",
       "        text-align: right;\n",
       "    }\n",
       "</style>\n",
       "<table border=\"1\" class=\"dataframe\">\n",
       "  <thead>\n",
       "    <tr style=\"text-align: right;\">\n",
       "      <th></th>\n",
       "      <th>Title</th>\n",
       "      <th>Author</th>\n",
       "      <th>Edition</th>\n",
       "      <th>Reviews</th>\n",
       "      <th>Ratings</th>\n",
       "      <th>Synopsis</th>\n",
       "      <th>Genre</th>\n",
       "      <th>BookCategory</th>\n",
       "      <th>Price</th>\n",
       "    </tr>\n",
       "  </thead>\n",
       "  <tbody>\n",
       "    <tr>\n",
       "      <th>0</th>\n",
       "      <td>The Prisoner's Gold (The Hunters 3)</td>\n",
       "      <td>Chris Kuzneski</td>\n",
       "      <td>Paperback,– 10 Mar 2016</td>\n",
       "      <td>4.0 out of 5 stars</td>\n",
       "      <td>8 customer reviews</td>\n",
       "      <td>THE HUNTERS return in their third brilliant no...</td>\n",
       "      <td>Action &amp; Adventure (Books)</td>\n",
       "      <td>Action &amp; Adventure</td>\n",
       "      <td>220.00</td>\n",
       "    </tr>\n",
       "    <tr>\n",
       "      <th>1</th>\n",
       "      <td>Guru Dutt: A Tragedy in Three Acts</td>\n",
       "      <td>Arun Khopkar</td>\n",
       "      <td>Paperback,– 7 Nov 2012</td>\n",
       "      <td>3.9 out of 5 stars</td>\n",
       "      <td>14 customer reviews</td>\n",
       "      <td>A layered portrait of a troubled genius for wh...</td>\n",
       "      <td>Cinema &amp; Broadcast (Books)</td>\n",
       "      <td>Biographies, Diaries &amp; True Accounts</td>\n",
       "      <td>202.93</td>\n",
       "    </tr>\n",
       "    <tr>\n",
       "      <th>2</th>\n",
       "      <td>Leviathan (Penguin Classics)</td>\n",
       "      <td>Thomas Hobbes</td>\n",
       "      <td>Paperback,– 25 Feb 1982</td>\n",
       "      <td>4.8 out of 5 stars</td>\n",
       "      <td>6 customer reviews</td>\n",
       "      <td>\"During the time men live without a common Pow...</td>\n",
       "      <td>International Relations</td>\n",
       "      <td>Humour</td>\n",
       "      <td>299.00</td>\n",
       "    </tr>\n",
       "    <tr>\n",
       "      <th>3</th>\n",
       "      <td>A Pocket Full of Rye (Miss Marple)</td>\n",
       "      <td>Agatha Christie</td>\n",
       "      <td>Paperback,– 5 Oct 2017</td>\n",
       "      <td>4.1 out of 5 stars</td>\n",
       "      <td>13 customer reviews</td>\n",
       "      <td>A handful of grain is found in the pocket of a...</td>\n",
       "      <td>Contemporary Fiction (Books)</td>\n",
       "      <td>Crime, Thriller &amp; Mystery</td>\n",
       "      <td>180.00</td>\n",
       "    </tr>\n",
       "    <tr>\n",
       "      <th>4</th>\n",
       "      <td>LIFE 70 Years of Extraordinary Photography</td>\n",
       "      <td>Editors of Life</td>\n",
       "      <td>Hardcover,– 10 Oct 2006</td>\n",
       "      <td>5.0 out of 5 stars</td>\n",
       "      <td>1 customer review</td>\n",
       "      <td>For seven decades, \"Life\" has been thrilling t...</td>\n",
       "      <td>Photography Textbooks</td>\n",
       "      <td>Arts, Film &amp; Photography</td>\n",
       "      <td>965.62</td>\n",
       "    </tr>\n",
       "  </tbody>\n",
       "</table>\n",
       "</div>"
      ],
      "text/plain": [
       "                                        Title           Author  \\\n",
       "0         The Prisoner's Gold (The Hunters 3)   Chris Kuzneski   \n",
       "1          Guru Dutt: A Tragedy in Three Acts     Arun Khopkar   \n",
       "2                Leviathan (Penguin Classics)    Thomas Hobbes   \n",
       "3          A Pocket Full of Rye (Miss Marple)  Agatha Christie   \n",
       "4  LIFE 70 Years of Extraordinary Photography  Editors of Life   \n",
       "\n",
       "                   Edition             Reviews              Ratings  \\\n",
       "0  Paperback,– 10 Mar 2016  4.0 out of 5 stars   8 customer reviews   \n",
       "1   Paperback,– 7 Nov 2012  3.9 out of 5 stars  14 customer reviews   \n",
       "2  Paperback,– 25 Feb 1982  4.8 out of 5 stars   6 customer reviews   \n",
       "3   Paperback,– 5 Oct 2017  4.1 out of 5 stars  13 customer reviews   \n",
       "4  Hardcover,– 10 Oct 2006  5.0 out of 5 stars    1 customer review   \n",
       "\n",
       "                                            Synopsis  \\\n",
       "0  THE HUNTERS return in their third brilliant no...   \n",
       "1  A layered portrait of a troubled genius for wh...   \n",
       "2  \"During the time men live without a common Pow...   \n",
       "3  A handful of grain is found in the pocket of a...   \n",
       "4  For seven decades, \"Life\" has been thrilling t...   \n",
       "\n",
       "                          Genre                          BookCategory   Price  \n",
       "0    Action & Adventure (Books)                    Action & Adventure  220.00  \n",
       "1    Cinema & Broadcast (Books)  Biographies, Diaries & True Accounts  202.93  \n",
       "2       International Relations                                Humour  299.00  \n",
       "3  Contemporary Fiction (Books)             Crime, Thriller & Mystery  180.00  \n",
       "4         Photography Textbooks              Arts, Film & Photography  965.62  "
      ]
     },
     "execution_count": 1,
     "metadata": {},
     "output_type": "execute_result"
    }
   ],
   "source": [
    "\"\"\"Cargar librerias, data de entrenamiento y visualizar \"\"\"\n",
    "\n",
    "import pandas as pd \n",
    "import numpy as np\n",
    "import matplotlib.pyplot as plt \n",
    "import seaborn as sns\n",
    "\n",
    "filename = 'D:\\Proyectos de programacion\\Hackaton\\Price Book\\Book_Price-Repo\\Participants_Data\\Data_Train.xlsx'\n",
    "data_train = pd.read_excel(filename)\n",
    "data_train.head()"
   ]
  },
  {
   "cell_type": "code",
   "execution_count": 2,
   "id": "aa2bef17",
   "metadata": {},
   "outputs": [
    {
     "data": {
      "text/html": [
       "<div>\n",
       "<style scoped>\n",
       "    .dataframe tbody tr th:only-of-type {\n",
       "        vertical-align: middle;\n",
       "    }\n",
       "\n",
       "    .dataframe tbody tr th {\n",
       "        vertical-align: top;\n",
       "    }\n",
       "\n",
       "    .dataframe thead th {\n",
       "        text-align: right;\n",
       "    }\n",
       "</style>\n",
       "<table border=\"1\" class=\"dataframe\">\n",
       "  <thead>\n",
       "    <tr style=\"text-align: right;\">\n",
       "      <th></th>\n",
       "      <th>Title</th>\n",
       "      <th>Author</th>\n",
       "      <th>Edition</th>\n",
       "      <th>Reviews</th>\n",
       "      <th>Ratings</th>\n",
       "      <th>Synopsis</th>\n",
       "      <th>Genre</th>\n",
       "      <th>BookCategory</th>\n",
       "    </tr>\n",
       "  </thead>\n",
       "  <tbody>\n",
       "    <tr>\n",
       "      <th>0</th>\n",
       "      <td>The Complete Sherlock Holmes: 2 Boxes sets</td>\n",
       "      <td>Sir Arthur Conan Doyle</td>\n",
       "      <td>Mass Market Paperback,– 1 Oct 1986</td>\n",
       "      <td>4.4 out of 5 stars</td>\n",
       "      <td>960 customer reviews</td>\n",
       "      <td>A collection of entire body of work of the She...</td>\n",
       "      <td>Short Stories (Books)</td>\n",
       "      <td>Crime, Thriller &amp; Mystery</td>\n",
       "    </tr>\n",
       "    <tr>\n",
       "      <th>1</th>\n",
       "      <td>Learn Docker - Fundamentals of Docker 18.x: Ev...</td>\n",
       "      <td>Gabriel N. Schenker</td>\n",
       "      <td>Paperback,– Import, 26 Apr 2018</td>\n",
       "      <td>5.0 out of 5 stars</td>\n",
       "      <td>1 customer review</td>\n",
       "      <td>Enhance your software deployment workflow usin...</td>\n",
       "      <td>Operating Systems Textbooks</td>\n",
       "      <td>Computing, Internet &amp; Digital Media</td>\n",
       "    </tr>\n",
       "    <tr>\n",
       "      <th>2</th>\n",
       "      <td>Big Girl</td>\n",
       "      <td>Danielle Steel</td>\n",
       "      <td>Paperback,– 17 Mar 2011</td>\n",
       "      <td>5.0 out of 5 stars</td>\n",
       "      <td>4 customer reviews</td>\n",
       "      <td>'Watch out, world. Here I come!'\\nFor Victoria...</td>\n",
       "      <td>Romance (Books)</td>\n",
       "      <td>Romance</td>\n",
       "    </tr>\n",
       "    <tr>\n",
       "      <th>3</th>\n",
       "      <td>Think Python: How to Think Like a Computer Sci...</td>\n",
       "      <td>Allen B. Downey</td>\n",
       "      <td>Paperback,– 2016</td>\n",
       "      <td>4.1 out of 5 stars</td>\n",
       "      <td>11 customer reviews</td>\n",
       "      <td>If you want to learn how to program, working w...</td>\n",
       "      <td>Programming &amp; Software Development (Books)</td>\n",
       "      <td>Computing, Internet &amp; Digital Media</td>\n",
       "    </tr>\n",
       "    <tr>\n",
       "      <th>4</th>\n",
       "      <td>Oxford Word Skills: Advanced - Idioms &amp; Phrasa...</td>\n",
       "      <td>Redman Gairns</td>\n",
       "      <td>Paperback,– 26 Dec 2011</td>\n",
       "      <td>4.4 out of 5 stars</td>\n",
       "      <td>9 customer reviews</td>\n",
       "      <td>Learn and practise the verbs, prepositions and...</td>\n",
       "      <td>Linguistics (Books)</td>\n",
       "      <td>Language, Linguistics &amp; Writing</td>\n",
       "    </tr>\n",
       "  </tbody>\n",
       "</table>\n",
       "</div>"
      ],
      "text/plain": [
       "                                               Title                  Author  \\\n",
       "0         The Complete Sherlock Holmes: 2 Boxes sets  Sir Arthur Conan Doyle   \n",
       "1  Learn Docker - Fundamentals of Docker 18.x: Ev...     Gabriel N. Schenker   \n",
       "2                                           Big Girl          Danielle Steel   \n",
       "3  Think Python: How to Think Like a Computer Sci...         Allen B. Downey   \n",
       "4  Oxford Word Skills: Advanced - Idioms & Phrasa...           Redman Gairns   \n",
       "\n",
       "                              Edition             Reviews  \\\n",
       "0  Mass Market Paperback,– 1 Oct 1986  4.4 out of 5 stars   \n",
       "1     Paperback,– Import, 26 Apr 2018  5.0 out of 5 stars   \n",
       "2             Paperback,– 17 Mar 2011  5.0 out of 5 stars   \n",
       "3                    Paperback,– 2016  4.1 out of 5 stars   \n",
       "4             Paperback,– 26 Dec 2011  4.4 out of 5 stars   \n",
       "\n",
       "                Ratings                                           Synopsis  \\\n",
       "0  960 customer reviews  A collection of entire body of work of the She...   \n",
       "1     1 customer review  Enhance your software deployment workflow usin...   \n",
       "2    4 customer reviews  'Watch out, world. Here I come!'\\nFor Victoria...   \n",
       "3   11 customer reviews  If you want to learn how to program, working w...   \n",
       "4    9 customer reviews  Learn and practise the verbs, prepositions and...   \n",
       "\n",
       "                                        Genre  \\\n",
       "0                       Short Stories (Books)   \n",
       "1                 Operating Systems Textbooks   \n",
       "2                             Romance (Books)   \n",
       "3  Programming & Software Development (Books)   \n",
       "4                         Linguistics (Books)   \n",
       "\n",
       "                          BookCategory  \n",
       "0            Crime, Thriller & Mystery  \n",
       "1  Computing, Internet & Digital Media  \n",
       "2                              Romance  \n",
       "3  Computing, Internet & Digital Media  \n",
       "4      Language, Linguistics & Writing  "
      ]
     },
     "execution_count": 2,
     "metadata": {},
     "output_type": "execute_result"
    }
   ],
   "source": [
    "data_test= pd.read_excel('D:\\Proyectos de programacion\\Hackaton\\Price Book\\Book_Price-Repo\\Participants_Data\\Data_Test.xlsx')\n",
    "data_test.head()"
   ]
  },
  {
   "cell_type": "code",
   "execution_count": 3,
   "id": "1ce865ff",
   "metadata": {},
   "outputs": [
    {
     "data": {
      "text/html": [
       "<div>\n",
       "<style scoped>\n",
       "    .dataframe tbody tr th:only-of-type {\n",
       "        vertical-align: middle;\n",
       "    }\n",
       "\n",
       "    .dataframe tbody tr th {\n",
       "        vertical-align: top;\n",
       "    }\n",
       "\n",
       "    .dataframe thead th {\n",
       "        text-align: right;\n",
       "    }\n",
       "</style>\n",
       "<table border=\"1\" class=\"dataframe\">\n",
       "  <thead>\n",
       "    <tr style=\"text-align: right;\">\n",
       "      <th></th>\n",
       "      <th>Price</th>\n",
       "    </tr>\n",
       "  </thead>\n",
       "  <tbody>\n",
       "    <tr>\n",
       "      <th>0</th>\n",
       "      <td>119</td>\n",
       "    </tr>\n",
       "    <tr>\n",
       "      <th>1</th>\n",
       "      <td>123</td>\n",
       "    </tr>\n",
       "    <tr>\n",
       "      <th>2</th>\n",
       "      <td>108</td>\n",
       "    </tr>\n",
       "    <tr>\n",
       "      <th>3</th>\n",
       "      <td>118</td>\n",
       "    </tr>\n",
       "    <tr>\n",
       "      <th>4</th>\n",
       "      <td>132</td>\n",
       "    </tr>\n",
       "  </tbody>\n",
       "</table>\n",
       "</div>"
      ],
      "text/plain": [
       "   Price\n",
       "0    119\n",
       "1    123\n",
       "2    108\n",
       "3    118\n",
       "4    132"
      ]
     },
     "execution_count": 3,
     "metadata": {},
     "output_type": "execute_result"
    }
   ],
   "source": [
    "y_test = pd.read_excel('Participants_Data\\Sample_Submission.xlsx')\n",
    "y_test.head()"
   ]
  },
  {
   "cell_type": "code",
   "execution_count": 4,
   "id": "73fc6aa2",
   "metadata": {},
   "outputs": [
    {
     "data": {
      "text/plain": [
       "((6237, 9), (1560, 8), (1560, 1))"
      ]
     },
     "execution_count": 4,
     "metadata": {},
     "output_type": "execute_result"
    }
   ],
   "source": [
    "data_train.shape, data_test.shape, y_test.shape"
   ]
  },
  {
   "cell_type": "code",
   "execution_count": 5,
   "id": "68cbca36",
   "metadata": {
    "scrolled": false
   },
   "outputs": [
    {
     "name": "stdout",
     "output_type": "stream",
     "text": [
      "<class 'pandas.core.frame.DataFrame'>\n",
      "RangeIndex: 6237 entries, 0 to 6236\n",
      "Data columns (total 9 columns):\n",
      " #   Column        Non-Null Count  Dtype  \n",
      "---  ------        --------------  -----  \n",
      " 0   Title         6237 non-null   object \n",
      " 1   Author        6237 non-null   object \n",
      " 2   Edition       6237 non-null   object \n",
      " 3   Reviews       6237 non-null   object \n",
      " 4   Ratings       6237 non-null   object \n",
      " 5   Synopsis      6237 non-null   object \n",
      " 6   Genre         6237 non-null   object \n",
      " 7   BookCategory  6237 non-null   object \n",
      " 8   Price         6237 non-null   float64\n",
      "dtypes: float64(1), object(8)\n",
      "memory usage: 438.7+ KB\n",
      "<class 'pandas.core.frame.DataFrame'>\n",
      "RangeIndex: 1560 entries, 0 to 1559\n",
      "Data columns (total 8 columns):\n",
      " #   Column        Non-Null Count  Dtype \n",
      "---  ------        --------------  ----- \n",
      " 0   Title         1560 non-null   object\n",
      " 1   Author        1560 non-null   object\n",
      " 2   Edition       1560 non-null   object\n",
      " 3   Reviews       1560 non-null   object\n",
      " 4   Ratings       1560 non-null   object\n",
      " 5   Synopsis      1560 non-null   object\n",
      " 6   Genre         1560 non-null   object\n",
      " 7   BookCategory  1560 non-null   object\n",
      "dtypes: object(8)\n",
      "memory usage: 97.6+ KB\n"
     ]
    },
    {
     "data": {
      "text/plain": [
       "(None, None)"
      ]
     },
     "execution_count": 5,
     "metadata": {},
     "output_type": "execute_result"
    }
   ],
   "source": [
    "data_train.info(), data_test.info()"
   ]
  },
  {
   "cell_type": "code",
   "execution_count": 6,
   "id": "bbb2d64f",
   "metadata": {},
   "outputs": [],
   "source": [
    "\"\"\"Transformar a float Reviews y Ratings\"\"\"\n",
    "\n",
    "data_train['Reviews'] = data_train.Reviews.apply(lambda r: float(r.split()[0]))\n",
    "data_train['Ratings']= data_train.Ratings.str.extract('(\\d+)')\n",
    "data_train[\"Ratings\"] = data_train.Ratings.astype(float)\n",
    "\n",
    "data_test['Ratings'] = data_test.Ratings.str.extract('(\\d+)')\n",
    "data_test['Ratings'] = data_test.Ratings.astype(float)\n",
    "data_test['Reviews'] = data_test.Reviews.apply(lambda e: float(e.split()[0]))\n"
   ]
  },
  {
   "cell_type": "code",
   "execution_count": 7,
   "id": "982b9d16",
   "metadata": {},
   "outputs": [
    {
     "data": {
      "text/html": [
       "<div>\n",
       "<style scoped>\n",
       "    .dataframe tbody tr th:only-of-type {\n",
       "        vertical-align: middle;\n",
       "    }\n",
       "\n",
       "    .dataframe tbody tr th {\n",
       "        vertical-align: top;\n",
       "    }\n",
       "\n",
       "    .dataframe thead th {\n",
       "        text-align: right;\n",
       "    }\n",
       "</style>\n",
       "<table border=\"1\" class=\"dataframe\">\n",
       "  <thead>\n",
       "    <tr style=\"text-align: right;\">\n",
       "      <th></th>\n",
       "      <th>Title</th>\n",
       "      <th>Author</th>\n",
       "      <th>Edition</th>\n",
       "      <th>Reviews</th>\n",
       "      <th>Ratings</th>\n",
       "      <th>Synopsis</th>\n",
       "      <th>Genre</th>\n",
       "      <th>BookCategory</th>\n",
       "    </tr>\n",
       "  </thead>\n",
       "  <tbody>\n",
       "    <tr>\n",
       "      <th>0</th>\n",
       "      <td>The Complete Sherlock Holmes: 2 Boxes sets</td>\n",
       "      <td>Sir Arthur Conan Doyle</td>\n",
       "      <td>Mass Market Paperback,– 1 Oct 1986</td>\n",
       "      <td>4.4</td>\n",
       "      <td>960.0</td>\n",
       "      <td>A collection of entire body of work of the She...</td>\n",
       "      <td>Short Stories (Books)</td>\n",
       "      <td>Crime, Thriller &amp; Mystery</td>\n",
       "    </tr>\n",
       "    <tr>\n",
       "      <th>1</th>\n",
       "      <td>Learn Docker - Fundamentals of Docker 18.x: Ev...</td>\n",
       "      <td>Gabriel N. Schenker</td>\n",
       "      <td>Paperback,– Import, 26 Apr 2018</td>\n",
       "      <td>5.0</td>\n",
       "      <td>1.0</td>\n",
       "      <td>Enhance your software deployment workflow usin...</td>\n",
       "      <td>Operating Systems Textbooks</td>\n",
       "      <td>Computing, Internet &amp; Digital Media</td>\n",
       "    </tr>\n",
       "    <tr>\n",
       "      <th>2</th>\n",
       "      <td>Big Girl</td>\n",
       "      <td>Danielle Steel</td>\n",
       "      <td>Paperback,– 17 Mar 2011</td>\n",
       "      <td>5.0</td>\n",
       "      <td>4.0</td>\n",
       "      <td>'Watch out, world. Here I come!'\\nFor Victoria...</td>\n",
       "      <td>Romance (Books)</td>\n",
       "      <td>Romance</td>\n",
       "    </tr>\n",
       "    <tr>\n",
       "      <th>3</th>\n",
       "      <td>Think Python: How to Think Like a Computer Sci...</td>\n",
       "      <td>Allen B. Downey</td>\n",
       "      <td>Paperback,– 2016</td>\n",
       "      <td>4.1</td>\n",
       "      <td>11.0</td>\n",
       "      <td>If you want to learn how to program, working w...</td>\n",
       "      <td>Programming &amp; Software Development (Books)</td>\n",
       "      <td>Computing, Internet &amp; Digital Media</td>\n",
       "    </tr>\n",
       "    <tr>\n",
       "      <th>4</th>\n",
       "      <td>Oxford Word Skills: Advanced - Idioms &amp; Phrasa...</td>\n",
       "      <td>Redman Gairns</td>\n",
       "      <td>Paperback,– 26 Dec 2011</td>\n",
       "      <td>4.4</td>\n",
       "      <td>9.0</td>\n",
       "      <td>Learn and practise the verbs, prepositions and...</td>\n",
       "      <td>Linguistics (Books)</td>\n",
       "      <td>Language, Linguistics &amp; Writing</td>\n",
       "    </tr>\n",
       "  </tbody>\n",
       "</table>\n",
       "</div>"
      ],
      "text/plain": [
       "                                               Title                  Author  \\\n",
       "0         The Complete Sherlock Holmes: 2 Boxes sets  Sir Arthur Conan Doyle   \n",
       "1  Learn Docker - Fundamentals of Docker 18.x: Ev...     Gabriel N. Schenker   \n",
       "2                                           Big Girl          Danielle Steel   \n",
       "3  Think Python: How to Think Like a Computer Sci...         Allen B. Downey   \n",
       "4  Oxford Word Skills: Advanced - Idioms & Phrasa...           Redman Gairns   \n",
       "\n",
       "                              Edition  Reviews  Ratings  \\\n",
       "0  Mass Market Paperback,– 1 Oct 1986      4.4    960.0   \n",
       "1     Paperback,– Import, 26 Apr 2018      5.0      1.0   \n",
       "2             Paperback,– 17 Mar 2011      5.0      4.0   \n",
       "3                    Paperback,– 2016      4.1     11.0   \n",
       "4             Paperback,– 26 Dec 2011      4.4      9.0   \n",
       "\n",
       "                                            Synopsis  \\\n",
       "0  A collection of entire body of work of the She...   \n",
       "1  Enhance your software deployment workflow usin...   \n",
       "2  'Watch out, world. Here I come!'\\nFor Victoria...   \n",
       "3  If you want to learn how to program, working w...   \n",
       "4  Learn and practise the verbs, prepositions and...   \n",
       "\n",
       "                                        Genre  \\\n",
       "0                       Short Stories (Books)   \n",
       "1                 Operating Systems Textbooks   \n",
       "2                             Romance (Books)   \n",
       "3  Programming & Software Development (Books)   \n",
       "4                         Linguistics (Books)   \n",
       "\n",
       "                          BookCategory  \n",
       "0            Crime, Thriller & Mystery  \n",
       "1  Computing, Internet & Digital Media  \n",
       "2                              Romance  \n",
       "3  Computing, Internet & Digital Media  \n",
       "4      Language, Linguistics & Writing  "
      ]
     },
     "execution_count": 7,
     "metadata": {},
     "output_type": "execute_result"
    }
   ],
   "source": [
    "\n",
    "data_test.head()\n"
   ]
  },
  {
   "cell_type": "code",
   "execution_count": 8,
   "id": "cb24bc96",
   "metadata": {},
   "outputs": [
    {
     "data": {
      "text/plain": [
       "(11, 345, 3679, 5568)"
      ]
     },
     "execution_count": 8,
     "metadata": {},
     "output_type": "execute_result"
    }
   ],
   "source": [
    "\"\"\"cantidad de valores unicos en Bookcategory, Genre, Author y Title \"\"\"\n",
    "\n",
    "len(data_train['BookCategory'].unique()), len(data_train['Genre'].unique()), len(data_train['Author'].unique()), len(data_train.Title.unique())"
   ]
  },
  {
   "cell_type": "code",
   "execution_count": 9,
   "id": "80c09672",
   "metadata": {},
   "outputs": [],
   "source": [
    "\"\"\"Reemplazar los valores unicos de BookCategory por numeros en un diccionario\"\"\"\n",
    "\n",
    "BookCategory_Values_X = data_train['BookCategory'].unique()\n",
    "\n",
    "dict_BookCategory_X = (dict((x,BookCategory_Values_X[x] )for x in range(len(BookCategory_Values_X))))\n",
    "\n",
    "for i in range(len(BookCategory_Values_X)): \n",
    "    data_train['BookCategory']= data_train['BookCategory'].replace({BookCategory_Values_X[i]:i })\n",
    "\n",
    "BookCategory_Values_y = data_test['BookCategory'].unique()\n",
    "\n",
    "dict_BookCategory_y = (dict((y,BookCategory_Values_y [y])for y in range(len(BookCategory_Values_y))))\n",
    "\n",
    "for i in range(len(BookCategory_Values_y)):\n",
    "    data_test['BookCategory'] = data_test.BookCategory.replace({BookCategory_Values_y[i]: i})\n",
    "\n",
    "\n"
   ]
  },
  {
   "cell_type": "code",
   "execution_count": 10,
   "id": "2fbfe9a4",
   "metadata": {},
   "outputs": [],
   "source": [
    "\"\"\"Reemplazar los valores unicos de Genre por numeros en un diccionario\"\"\"\n",
    "\n",
    "Genre_values = data_train['Genre'].unique()\n",
    "\n",
    "dict_Genre= (dict((x,Genre_values[x] )for x in range(len(Genre_values))))\n",
    "\n",
    "for i in range(len(Genre_values)): \n",
    "    data_train['Genre']= data_train['Genre'].replace({Genre_values[i]: i })\n",
    "\n",
    "\n",
    "\n",
    "Genre_values_y = data_test['Genre'].unique()\n",
    "\n",
    "dict_Genre_y = (dict((y, Genre_values_y[y]) for y in range(len(Genre_values_y))))\n",
    "for i in range(len(Genre_values_y)):\n",
    "    \n",
    "    data_test['Genre']= data_test['Genre'].replace({Genre_values_y[i]: i })\n",
    "\n",
    "\n",
    "\n"
   ]
  },
  {
   "cell_type": "code",
   "execution_count": 11,
   "id": "939d1e49",
   "metadata": {},
   "outputs": [],
   "source": [
    "\"\"\"Reemplazar los valores unicos de autor por numeros de una key de un diccionario\"\"\"\n",
    "\n",
    "Author_values = data_train.Author.unique()\n",
    "dict_Author = (dict((x,Author_values[x])for x in range(len(Author_values))))\n",
    "\n",
    "for i in range(len(Author_values)): \n",
    "    data_train['Author']= data_train['Author'].replace({Author_values[i]: i })\n",
    "\n",
    "Author_values_y = data_test.Author.unique()\n",
    "dict_Author = (dict((y, Author_values_y[y])for y in range(len(Author_values_y))))\n",
    "\n",
    "for i in range(len(Author_values_y)): \n",
    "    data_test['Author']= data_test['Author'].replace({Author_values_y[i]: i })\n",
    "\n",
    "\n"
   ]
  },
  {
   "cell_type": "code",
   "execution_count": 12,
   "id": "15bc428d",
   "metadata": {},
   "outputs": [],
   "source": [
    "\"\"\"Eliminando las columnas Edition, Synopsis, Title\"\"\"\n",
    "\n",
    "data_train = data_train.drop(['Edition', 'Synopsis', 'Title'], axis=1)\n",
    "\n",
    "data_test = data_test.drop(['Edition', 'Synopsis', 'Title'], axis=1)"
   ]
  },
  {
   "cell_type": "code",
   "execution_count": 13,
   "id": "d3b6f1f2",
   "metadata": {},
   "outputs": [
    {
     "data": {
      "text/plain": [
       "(            Author      Reviews      Ratings        Genre  BookCategory  \\\n",
       " count  6237.000000  6237.000000  6237.000000  6237.000000   6237.000000   \n",
       " mean   1388.410454     4.293202    29.828122    54.150553      4.550104   \n",
       " std    1086.426906     0.662501    84.139256    69.364410      3.156176   \n",
       " min       0.000000     1.000000     1.000000     0.000000      0.000000   \n",
       " 25%     395.000000     4.000000     2.000000     6.000000      2.000000   \n",
       " 50%    1168.000000     4.400000     6.000000    23.000000      4.000000   \n",
       " 75%    2259.000000     4.800000    21.000000    84.000000      7.000000   \n",
       " max    3678.000000     5.000000   973.000000   344.000000     10.000000   \n",
       " \n",
       "               Price  \n",
       " count   6237.000000  \n",
       " mean     560.707516  \n",
       " std      690.110657  \n",
       " min       25.000000  \n",
       " 25%      249.180000  \n",
       " 50%      373.000000  \n",
       " 75%      599.000000  \n",
       " max    14100.000000  ,\n",
       "             Author      Reviews      Ratings       Genre  BookCategory\n",
       " count  1560.000000  1560.000000  1560.000000  1560.00000   1560.000000\n",
       " mean    543.517949     4.306410    26.398718    49.29359      5.066667\n",
       " std     359.640455     0.667651    74.446109    52.26419      3.229223\n",
       " min       0.000000     1.000000     1.000000     0.00000      0.000000\n",
       " 25%     216.000000     4.000000     2.000000     7.00000      2.000000\n",
       " 50%     513.500000     4.400000     6.000000    32.00000      6.000000\n",
       " 75%     846.250000     4.900000    20.000000    73.00000      8.000000\n",
       " max    1223.000000     5.000000   960.000000   224.00000     10.000000)"
      ]
     },
     "execution_count": 13,
     "metadata": {},
     "output_type": "execute_result"
    }
   ],
   "source": [
    "data_train.describe(), data_test.describe()"
   ]
  },
  {
   "cell_type": "code",
   "execution_count": 14,
   "id": "fe41f89c",
   "metadata": {},
   "outputs": [],
   "source": [
    "y_train = data_train['Price'].values\n",
    "X_train = data_train.drop(['Price'], axis=1)\n",
    "X_train= X_train.values\n",
    "X_test = data_test.values\n",
    "y_test = y_test.values"
   ]
  },
  {
   "cell_type": "code",
   "execution_count": 15,
   "id": "602ba605",
   "metadata": {},
   "outputs": [
    {
     "data": {
      "text/plain": [
       "ExtraTreesRegressor()"
      ]
     },
     "execution_count": 15,
     "metadata": {},
     "output_type": "execute_result"
    }
   ],
   "source": [
    "from sklearn.ensemble import ExtraTreesRegressor\n",
    "model = ExtraTreesRegressor()\n",
    "model.fit(X_train,y_train)"
   ]
  },
  {
   "cell_type": "code",
   "execution_count": 16,
   "id": "71655d68",
   "metadata": {},
   "outputs": [
    {
     "data": {
      "text/plain": [
       "array([0.3356707 , 0.14210571, 0.18849914, 0.21484059, 0.11888386])"
      ]
     },
     "execution_count": 16,
     "metadata": {},
     "output_type": "execute_result"
    }
   ],
   "source": [
    "model.feature_importances_"
   ]
  },
  {
   "cell_type": "code",
   "execution_count": 17,
   "id": "faab7ad1",
   "metadata": {},
   "outputs": [
    {
     "data": {
      "image/png": "[encoded data removed]",
      "text/plain": [
       "<Figure size 432x288 with 1 Axes>"
      ]
     },
     "metadata": {
      "needs_background": "light"
     },
     "output_type": "display_data"
    }
   ],
   "source": [
    "feat_importance = pd.Series(model.feature_importances_,index=data_train.drop(['Price'], axis=1).columns)\n",
    "figure = feat_importance.sort_values(ascending=True).plot(kind='barh')\n",
    "plt.show()\n"
   ]
  },
  {
   "cell_type": "code",
   "execution_count": 18,
   "id": "a3b5c076",
   "metadata": {},
   "outputs": [],
   "source": [
    "from sklearn.model_selection import RandomizedSearchCV, GridSearchCV\n",
    "from sklearn.ensemble import RandomForestClassifier, RandomForestRegressor\n",
    "\n",
    "\n",
    "# X_train, X_test, y_train, y_test = train_test_split(X,y,test_size=0.2,random_state=42)\n",
    "rf_model = RandomForestRegressor()"
   ]
  },
  {
   "cell_type": "code",
   "execution_count": 19,
   "id": "8723b906",
   "metadata": {},
   "outputs": [],
   "source": [
    "n_estimators = [int(x) for x in np.linspace(start=100, stop=1200, num=12) ]\n",
    "max_features = ['auto','sqrt']\n",
    "max_depth = [int(x) for x in np.linspace(5,30,num=6)]\n",
    "min_samples_split = [2, 5, 10 ,15,100]\n",
    "min_samples_leaf = [1,2,5,10]\n"
   ]
  },
  {
   "cell_type": "code",
   "execution_count": 20,
   "id": "60189194",
   "metadata": {},
   "outputs": [
    {
     "data": {
      "text/plain": [
       "{'n_estimators': [100,\n",
       "  200,\n",
       "  300,\n",
       "  400,\n",
       "  500,\n",
       "  600,\n",
       "  700,\n",
       "  800,\n",
       "  900,\n",
       "  1000,\n",
       "  1100,\n",
       "  1200],\n",
       " 'max_features': ['auto', 'sqrt'],\n",
       " 'max_depth': [5, 10, 15, 20, 25, 30],\n",
       " 'min_samples_split': [2, 5, 10, 15, 100],\n",
       " 'min_samples_leaf': [1, 2, 5, 10]}"
      ]
     },
     "execution_count": 20,
     "metadata": {},
     "output_type": "execute_result"
    }
   ],
   "source": [
    "ramdom_grid = {'n_estimators' : n_estimators,\n",
    "               'max_features' : max_features,\n",
    "               'max_depth' : max_depth,\n",
    "               'min_samples_split' :min_samples_split,\n",
    "               'min_samples_leaf' : min_samples_leaf  \n",
    "}\n",
    "\n",
    "param_grid = {\n",
    "    'n_estimators': n_estimators,\n",
    "}\n",
    "ramdom_grid"
   ]
  },
  {
   "cell_type": "code",
   "execution_count": 21,
   "id": "0a9dad3e",
   "metadata": {},
   "outputs": [
    {
     "data": {
      "text/plain": [
       "GridSearchCV(cv=5, estimator=RandomForestRegressor(),\n",
       "             param_grid={'n_estimators': [100, 200, 300, 400, 500, 600, 700,\n",
       "                                          800, 900, 1000, 1100, 1200]})"
      ]
     },
     "execution_count": 21,
     "metadata": {},
     "output_type": "execute_result"
    }
   ],
   "source": [
    "# final_rf_model = RandomizedSearchCV(estimator=rf_model, param_distributions=ramdom_grid,scoring='neg_mean_squared_error',n_iter=10, cv=5, random_state=42, n_jobs=1,verbose=2)\n",
    "gs = GridSearchCV(rf_model, param_grid, cv=5)\n",
    "gs.fit(X_train, y_train)"
   ]
  },
  {
   "cell_type": "code",
   "execution_count": 22,
   "id": "50395370",
   "metadata": {},
   "outputs": [],
   "source": [
    "# final_rf_model.fit(X_train,y_train)\n",
    "# RandomForestClassifier()"
   ]
  },
  {
   "cell_type": "code",
   "execution_count": 23,
   "id": "ec224562",
   "metadata": {},
   "outputs": [],
   "source": [
    "# final_rf_model.best_params_"
   ]
  },
  {
   "cell_type": "code",
   "execution_count": 24,
   "id": "de43ed6f",
   "metadata": {},
   "outputs": [
    {
     "data": {
      "text/plain": [
       "array([[433],\n",
       "       [367],\n",
       "       [580],\n",
       "       ...,\n",
       "       [977],\n",
       "       [515],\n",
       "       [372]])"
      ]
     },
     "execution_count": 24,
     "metadata": {},
     "output_type": "execute_result"
    }
   ],
   "source": [
    "# rf_predictions = final_rf_model.predict(X_test)\n",
    "gs_predictions = gs.predict(X_test)\n",
    "gs_predictions= gs_predictions.astype(int)\n",
    "gs_predictions = gs_predictions.reshape((1560,1))\n",
    "gs_predictions"
   ]
  },
  {
   "cell_type": "code",
   "execution_count": 25,
   "id": "a467600e",
   "metadata": {},
   "outputs": [
    {
     "data": {
      "text/plain": [
       "0.49451833847448634"
      ]
     },
     "execution_count": 25,
     "metadata": {},
     "output_type": "execute_result"
    }
   ],
   "source": [
    "# final_rf_model.score(X_train)\n",
    "from sklearn.metrics import accuracy_score, precision_score, recall_score, f1_score, confusion_matrix, ConfusionMatrixDisplay\n",
    "model.score(X_test, gs_predictions)\n",
    "# confusion_matrix(list(y_test), rf_predictions)\n",
    "\n",
    "# model.score(X_test, y_test)\n",
    "# f1_score(y, rf_predictions)\n",
    "# accuracy_score(y_true= y_train, y_pred=rf_predictions)\n",
    "\n",
    "\n",
    "# print(\"accuracy:\", accuracy_score(y, y_pred))\n",
    "# print(\"precision:\", precision_score(y, y_pred))\n",
    "# print(\"recall:\", recall_score(y, y_pred))\n",
    "# print(\"f1 score:\", f1_score(y, y_pred))\n",
    "# print(\"accuracy:\", model.score(X_test, y_test))\n",
    "\n",
    "\n",
    "\n"
   ]
  },
  {
   "cell_type": "code",
   "execution_count": 26,
   "id": "e879fc16",
   "metadata": {},
   "outputs": [
    {
     "name": "stdout",
     "output_type": "stream",
     "text": [
      "accuracy: 0.0\n"
     ]
    }
   ],
   "source": [
    "print(\"accuracy:\", accuracy_score(y_test, gs_predictions))"
   ]
  },
  {
   "cell_type": "code",
   "execution_count": 27,
   "id": "664d786f",
   "metadata": {},
   "outputs": [],
   "source": [
    "confu_matrix = confusion_matrix(y_test, gs_predictions)\n"
   ]
  },
  {
   "cell_type": "code",
   "execution_count": 28,
   "id": "8c482e21",
   "metadata": {},
   "outputs": [
    {
     "data": {
      "text/plain": [
       "<function matplotlib.pyplot.show(close=None, block=None)>"
      ]
     },
     "execution_count": 28,
     "metadata": {},
     "output_type": "execute_result"
    }
   ],
   "source": [
    "figure  =ConfusionMatrixDisplay(confu_matrix,)\n",
    "figure.plot\n",
    "plt.show"
   ]
  },
  {
   "cell_type": "code",
   "execution_count": 29,
   "id": "aa6cf472",
   "metadata": {},
   "outputs": [
    {
     "data": {
      "text/plain": [
       "<function matplotlib.pyplot.show(close=None, block=None)>"
      ]
     },
     "execution_count": 29,
     "metadata": {},
     "output_type": "execute_result"
    },
    {
     "data": {
      "image/png": "[encoded data removed]",
      "text/plain": [
       "<Figure size 432x288 with 1 Axes>"
      ]
     },
     "metadata": {
      "needs_background": "light"
     },
     "output_type": "display_data"
    }
   ],
   "source": [
    "plt.scatter(gs_predictions, y_test, alpha = 0.5)\n",
    "plt.show"
   ]
  },
  {
   "cell_type": "code",
   "execution_count": 30,
   "id": "dab94d2f",
   "metadata": {},
   "outputs": [],
   "source": [
    "# import seaborn as sns\n",
    "# from datetime import datetime\n",
    "# import pickle\n",
    "# sns.set()\n",
    "\n"
   ]
  },
  {
   "cell_type": "code",
   "execution_count": null,
   "metadata": {},
   "outputs": [],
   "source": []
  },
  {
   "cell_type": "code",
   "execution_count": 31,
   "id": "e762d542",
   "metadata": {},
   "outputs": [],
   "source": [
    "# sns.displot(y_test - rf_predictions)\n"
   ]
  },
  {
   "cell_type": "code",
   "execution_count": 32,
   "id": "44c4b22a",
   "metadata": {},
   "outputs": [],
   "source": [
    "# sns.scatterplot(y_test, rf_predictions)"
   ]
  },
  {
   "cell_type": "code",
   "execution_count": 33,
   "id": "88bd571d",
   "metadata": {},
   "outputs": [],
   "source": [
    "# print('MAE:', mean_absolute_error(y_test,rf_predictions) )\n",
    "# print('MSE:', mean_squared_error(y_test, rf_predictions))"
   ]
  },
  {
   "cell_type": "code",
   "execution_count": 34,
   "id": "86ee764e",
   "metadata": {},
   "outputs": [],
   "source": [
    "# file = open('random_forest_regressor_model.pkl', 'wb')\n",
    "# pickle.dump(final_rf_model, file)"
   ]
  }
 ],
 "metadata": {
  "kernelspec": {
   "display_name": "Python 3 (ipykernel)",
   "language": "python",
   "name": "python3"
  },
  "language_info": {
   "codemirror_mode": {
    "name": "ipython",
    "version": 3
   },
   "file_extension": ".py",
   "mimetype": "text/x-python",
   "name": "python",
   "nbconvert_exporter": "python",
   "pygments_lexer": "ipython3",
   "version": "3.9.12"
  },
  "varInspector": {
   "cols": {
    "lenName": 16,
    "lenType": 16,
    "lenVar": 40
   },
   "kernels_config": {
    "python": {
     "delete_cmd_postfix": "",
     "delete_cmd_prefix": "del ",
     "library": "var_list.py",
     "varRefreshCmd": "print(var_dic_list())"
    },
    "r": {
     "delete_cmd_postfix": ") ",
     "delete_cmd_prefix": "rm(",
     "library": "var_list.r",
     "varRefreshCmd": "cat(var_dic_list()) "
    }
   },
   "types_to_exclude": [
    "module",
    "function",
    "builtin_function_or_method",
    "instance",
    "_Feature"
   ],
   "window_display": false
  }
 },
 "nbformat": 4,
 "nbformat_minor": 5
}
